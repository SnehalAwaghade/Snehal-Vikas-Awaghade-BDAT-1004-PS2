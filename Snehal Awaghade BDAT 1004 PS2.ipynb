{
 "cells": [
  {
   "cell_type": "markdown",
   "metadata": {
    "id": "CjJ3xRfoiUYy"
   },
   "source": [
    "##Q1"
   ]
  },
  {
   "cell_type": "code",
   "execution_count": null,
   "metadata": {
    "colab": {
     "base_uri": "https://localhost:8080/"
    },
    "id": "vC1XVlIf0dHA",
    "outputId": "bb862961-56c2-46fa-ab80-1755f25448a7"
   },
   "outputs": [
    {
     "data": {
      "text/plain": [
       "6"
      ]
     },
     "execution_count": 1,
     "metadata": {},
     "output_type": "execute_result"
    }
   ],
   "source": [
    "a=0\n",
    "def b():\n",
    "  global a # this updates the scope of variable a meaning it  will give access to memory location for \"a\" variable. and thus value will be updated on the same  memory location \n",
    "  a = c(a)\n",
    "def c(a):\n",
    "  return a+2\n",
    "\n",
    "b()\n",
    "b()\n",
    "b()\n",
    "a\n",
    "#ans "
   ]
  },
  {
   "cell_type": "markdown",
   "metadata": {
    "id": "OWuSK09_iakL"
   },
   "source": [
    "##Q2"
   ]
  },
  {
   "cell_type": "code",
   "execution_count": null,
   "metadata": {
    "colab": {
     "base_uri": "https://localhost:8080/"
    },
    "id": "GRPs3gFZ01zG",
    "outputId": "9e2d21db-418e-48ea-f857-ae8c11c43055"
   },
   "outputs": [
    {
     "name": "stdout",
     "output_type": "stream",
     "text": [
      "1\n",
      "file test1.txt not found\n"
     ]
    }
   ],
   "source": [
    "def fileLength(fileName):\n",
    "  try:\n",
    "    with open(fileName, 'r') as f:\n",
    "      print(len(f.readlines()))\n",
    "  except(FileNotFoundError):\n",
    "    print(f'file {fileName} not found')\n",
    "\n",
    "with open('test.txt', 'w') as f:\n",
    "  f.write('This is test file!!')\n",
    "fileLength('test.txt')\n",
    "fileLength('test1.txt')\n"
   ]
  },
  {
   "cell_type": "markdown",
   "metadata": {
    "id": "TTaL4LmLiceN"
   },
   "source": [
    "##Q3"
   ]
  },
  {
   "cell_type": "code",
   "execution_count": null,
   "metadata": {
    "colab": {
     "base_uri": "https://localhost:8080/"
    },
    "id": "tMvVLjMb22bQ",
    "outputId": "8b214036-bd00-4a9b-a7de-92171d2e1160"
   },
   "outputs": [
    {
     "name": "stdout",
     "output_type": "stream",
     "text": [
      "['doll', 'firetruck', 'kitten']\n",
      "I am kangaroo located at coordinates (0,0)\n",
      "['doll', 'firetruck', 'kitten']\n",
      "I am kangaroo located at coordinates (3,0)\n"
     ]
    }
   ],
   "source": [
    "class Marsupial:\n",
    "    def __init__(self):\n",
    "         self.pouch = []\n",
    "    def put_in_pouch(self,name):\n",
    "          self.pouch.append(name)\n",
    "    def pouch_contents(self):\n",
    "          print(self.pouch)\n",
    "\n",
    "m = Marsupial()\n",
    "m.put_in_pouch('doll')\n",
    "m.put_in_pouch('firetruck')\n",
    "m.put_in_pouch('kitten')\n",
    "m.pouch_contents()\n",
    "\n",
    "class Kangaroo(Marsupial):\n",
    "  def __init__(self,x,y):\n",
    "    super().__init__()\n",
    "    self.x = x\n",
    "    self.y = y\n",
    "  \n",
    "  def jump(self,dx,dy):\n",
    "    self.x += dx\n",
    "    self.y += dy\n",
    "  \n",
    "  def __str__(self):\n",
    "    return f\"I am kangaroo located at coordinates ({self.x},{self.y})\"\n",
    "\n",
    "k = Kangaroo(0,0)\n",
    "print(k)\n",
    "k.put_in_pouch('doll')\n",
    "k.put_in_pouch('firetruck')\n",
    "k.put_in_pouch('kitten')\n",
    "k.pouch_contents()\n",
    "k.jump(1,0)\n",
    "k.jump(1,0)\n",
    "k.jump(1,0)\n",
    "print(k)\n"
   ]
  },
  {
   "cell_type": "markdown",
   "metadata": {
    "id": "cmfUz8Snies5"
   },
   "source": [
    "##Q4"
   ]
  },
  {
   "cell_type": "code",
   "execution_count": null,
   "metadata": {
    "colab": {
     "base_uri": "https://localhost:8080/"
    },
    "id": "EDcyeSZS3CSB",
    "outputId": "fe71b551-c0a0-4229-f2f7-0055c1b21413"
   },
   "outputs": [
    {
     "name": "stdout",
     "output_type": "stream",
     "text": [
      "10\n",
      "5\n",
      "16\n",
      "8\n",
      "4\n",
      "2\n",
      "1\n"
     ]
    }
   ],
   "source": [
    "def collatz(n):\n",
    "  print(n)\n",
    "  if n==1:\n",
    "    return\n",
    "  if n%2==0:\n",
    "    collatz(n//2)\n",
    "  else:\n",
    "    collatz((n*3)+1)\n",
    "collatz(10)\n"
   ]
  },
  {
   "cell_type": "markdown",
   "metadata": {
    "id": "_5BNfylciiv0"
   },
   "source": [
    "##Q5"
   ]
  },
  {
   "cell_type": "code",
   "execution_count": null,
   "metadata": {
    "colab": {
     "base_uri": "https://localhost:8080/"
    },
    "id": "G3w5DthF6CDy",
    "outputId": "5f4087a4-99da-4f86-84dc-4ce109960ebd"
   },
   "outputs": [
    {
     "name": "stdout",
     "output_type": "stream",
     "text": [
      "0\n",
      "1\n",
      "11\n",
      "1001\n"
     ]
    }
   ],
   "source": [
    "def binary(n):\n",
    "  if n == 0:\n",
    "    return 0\n",
    "  no = binary(n//2)\n",
    "  return n % 2 + 10 * no\n",
    "   \n",
    "\n",
    "print(binary(0))\n",
    "print(binary(1))\n",
    "print(binary(3))  \n",
    "print(binary(9))"
   ]
  },
  {
   "cell_type": "markdown",
   "metadata": {
    "id": "GllyIgKiilYz"
   },
   "source": [
    "##Q6"
   ]
  },
  {
   "cell_type": "code",
   "execution_count": 1,
   "metadata": {
    "colab": {
     "base_uri": "https://localhost:8080/"
    },
    "id": "oEfK0bAB62l4",
    "outputId": "82a1d4e0-3641-4b82-bbf0-95cb755d2334"
   },
   "outputs": [
    {
     "name": "stdout",
     "output_type": "stream",
     "text": [
      "Parse me!\n",
      " good \n"
     ]
    }
   ],
   "source": [
    "from html.parser import HTMLParser\n",
    "class HeadingParser(HTMLParser):\n",
    "  def __init__(self):\n",
    "    super().__init__()\n",
    "    self.headings = ['h1','h2','h3','h4','h5','h6']\n",
    "    self.buffer = ''\n",
    "    self.data = []\n",
    "  def handle_starttag(self, tag, attrs):\n",
    "        if tag in self.headings:\n",
    "          self.buffer = ' '*(int(tag[1])-1) \n",
    "  def handle_data(self, data):\n",
    "        self.buffer += data\n",
    "  \n",
    "  def handle_endtag(self, tag):\n",
    "    if tag in self.headings:\n",
    "      self.data.append(self.buffer)\n",
    "      self.buffer = ''\n",
    "  def show(self):\n",
    "    for data in self.data:\n",
    "      print(data)\n",
    "h = HeadingParser()\n",
    "h.feed('<html><head><title>Test</title></head>' '<body><h1>Parse me!</h1> <h2>good </h2></body></html>')\n",
    "h.show()\n",
    "        "
   ]
  },
  {
   "cell_type": "markdown",
   "metadata": {
    "id": "qAoS18QOisZ0"
   },
   "source": [
    "##Q7"
   ]
  },
  {
   "cell_type": "code",
   "execution_count": 25,
   "metadata": {
    "colab": {
     "base_uri": "https://localhost:8080/"
    },
    "id": "QvTUJl2F94dS",
    "outputId": "40b4750f-04cd-4d67-d0d3-155cbf45f8a0"
   },
   "outputs": [
    {
     "name": "stdout",
     "output_type": "stream",
     "text": [
      "https://www.webscraper.io/test-sites/e-commerce/static\n",
      " https://forum.webscraper.io/\n",
      "  https://www.discourse.org\n",
      " https://chrome.google.com/webstore/detail/web-scraper/jnhgnonknehpejjnehehllkliplmbmhn?hl=en\n",
      "  https://chrome.google.com/webstore/report/jnhgnonknehpejjnehehllkliplmbmhn?hl=en\n",
      "  https://webscraper.io/extension-privacy-policy\n",
      " https://cloud.webscraper.io/\n",
      " https://forum.webscraper.io/\n",
      "  https://www.discourse.org\n",
      " https://www.facebook.com/webscraperio/\n",
      "  https://www.facebook.com/recover/initiate/?ars=facebook_login\n",
      "  https://es-la.facebook.com/login/?next=https%3A%2F%2Fwww.facebook.com%2Fwebscraperio%2F\n",
      "  https://fr-fr.facebook.com/login/?next=https%3A%2F%2Fwww.facebook.com%2Fwebscraperio%2F\n",
      "  https://zh-cn.facebook.com/login/?next=https%3A%2F%2Fwww.facebook.com%2Fwebscraperio%2F\n",
      "  https://ar-ar.facebook.com/login/?next=https%3A%2F%2Fwww.facebook.com%2Fwebscraperio%2F\n",
      "  https://pt-br.facebook.com/login/?next=https%3A%2F%2Fwww.facebook.com%2Fwebscraperio%2F\n",
      "  https://it-it.facebook.com/login/?next=https%3A%2F%2Fwww.facebook.com%2Fwebscraperio%2F\n",
      "  https://ko-kr.facebook.com/login/?next=https%3A%2F%2Fwww.facebook.com%2Fwebscraperio%2F\n",
      "  https://de-de.facebook.com/login/?next=https%3A%2F%2Fwww.facebook.com%2Fwebscraperio%2F\n",
      "  https://hi-in.facebook.com/login/?next=https%3A%2F%2Fwww.facebook.com%2Fwebscraperio%2F\n",
      "  https://ja-jp.facebook.com/login/?next=https%3A%2F%2Fwww.facebook.com%2Fwebscraperio%2F\n",
      "  https://messenger.com/\n",
      "  https://www.facebook.com/watch/\n",
      "  https://pay.facebook.com/\n",
      "  https://www.oculus.com/\n",
      "  https://portal.facebook.com/\n",
      "  https://l.facebook.com/l.php?u=https%3A%2F%2Fwww.instagram.com%2F&h=AT0fUwUi-_Rl9Xe5Vnaz2-h62BNcQ6tEGOcBR1y1Nvu8Ru-Q8YyvbIslspa2eEp2WbaXSRDRK-6i0NmLkkHzGbVsdvVT_SbTyVr0H2dJEOF0CJzZI-6ltVaTRmTEHm9ZMtRo3Jiae6HO41K3\n",
      "  https://www.bulletin.com/\n",
      "  https://about.facebook.com/\n",
      "  https://developers.facebook.com/?ref=pf\n",
      "  https://www.facebook.com/help/568137493302217\n",
      " https://twitter.com/webscraperio\n",
      "  https://help.twitter.com/using-twitter/twitter-supported-browsers\n",
      "  https://twitter.com/tos\n",
      "  https://twitter.com/privacy\n",
      "  https://support.twitter.com/articles/20170514\n",
      "  https://legal.twitter.com/imprint.html\n",
      "  https://business.twitter.com/en/help/troubleshooting/how-twitter-ads-work.html?ref=web-twc-ao-gbl-adsinfo&utm_source=twc&utm_medium=web&utm_campaign=ao&utm_content=adsinfo\n"
     ]
    }
   ],
   "source": [
    "from urllib.request import Request, urlopen\n",
    "import re\n",
    "from bs4 import BeautifulSoup\n",
    "def webdir(url,depth,indent):\n",
    "  if depth ==0:\n",
    "    return \n",
    "  print(\" \"*indent+ f\"{url}\")\n",
    "  req = Request(url)\n",
    "  html_page = urlopen(req)\n",
    "  soup = BeautifulSoup(html_page, \"lxml\")\n",
    "  links = []\n",
    "  for link in soup.findAll('a'):\n",
    "    #print(link,type(link))\n",
    "    if link.get('href') and 'https' ==  link.get('href')[:5]:\n",
    "      links.append(link.get('href'))\n",
    "  #print(links)\n",
    "  for link in links:\n",
    "    webdir(link,depth-1,indent+1)\n",
    "\n",
    "webdir('https://www.webscraper.io/test-sites/e-commerce/static', 3, 0)"
   ]
  },
  {
   "cell_type": "markdown",
   "metadata": {
    "id": "4Wz2UXmliulx"
   },
   "source": [
    "##Q8"
   ]
  },
  {
   "cell_type": "code",
   "execution_count": null,
   "metadata": {
    "id": "t9Si78Ka95Fu"
   },
   "outputs": [],
   "source": [
    "'''\n",
    "a. SELECT TEMPERATURES FROM TABLE\n",
    "B. SELECT DISTINCT CITY FROM TABLE\n",
    "C. SELECT * FROM TABLE WHERE COUNTRY=INDIA\n",
    "D. SELECT * FROM TABLE WHERE SEASON=FALL\n",
    "E. SELECT CITY,COUNTRY,SEASON FROM TABLE WHERE AVERAGE(RAINFALL) IN BETWEEN(200,400) GROUP BY COUNTRY \n",
    "F. SELECT CITY, COUNTRY FROM TABLE GROUP BY COUNTRY WHERE AVERAGE(TEMPERATURE) >20 ORDER BY TEMPERATURE ASC\n",
    "G. SELECT SUM(RAINFALL) FROM  TABLE WHERE CITY = CAIRO \n",
    "H. SELECT SUM(RAINFALL) FROM TABLE GROUP BY SEASON\n",
    "'''"
   ]
  },
  {
   "cell_type": "markdown",
   "metadata": {
    "id": "xoVgDHi0ixGd"
   },
   "source": [
    "##Q9"
   ]
  },
  {
   "cell_type": "code",
   "execution_count": null,
   "metadata": {
    "colab": {
     "base_uri": "https://localhost:8080/"
    },
    "id": "k2vlEK_f95hz",
    "outputId": "059c3296-00d7-4622-fbd8-3a4e48d34fe6"
   },
   "outputs": [
    {
     "name": "stdout",
     "output_type": "stream",
     "text": [
      "['THE', 'QUICK', 'BROWN', 'FOX', 'JUMPS', 'OVER', 'THE', 'LAZY', 'DOG']\n",
      "['the', 'quick', 'brown', 'fox', 'jumps', 'over', 'the', 'lazy', 'dog']\n",
      "[3, 5, 5, 3, 5, 4, 3, 4, 3]\n",
      "[['THE', 'the', 3], ['QUICK', 'quick', 5], ['BROWN', 'brown', 5], ['FOX', 'fox', 3], ['JUMPS', 'jumps', 5], ['OVER', 'over', 4], ['THE', 'the', 3], ['LAZY', 'lazy', 4], ['DOG', 'dog', 3]]\n",
      "['quick', 'brown', 'jumps', 'over', 'lazy']\n"
     ]
    }
   ],
   "source": [
    "words = ['The', 'quick', 'brown', 'fox', 'jumps', 'over', 'the', 'lazy', 'dog']\n",
    "print([word.upper() for word in words ])\n",
    "print([word.lower() for word in words ])\n",
    "print([len(word) for word in words ])\n",
    "print([[word.upper(),word.lower(),len(word)] for word in words ])\n",
    "print([word for word in words if len(word)>=4])  \n"
   ]
  }
 ],
 "metadata": {
  "colab": {
   "name": "Untitled23.ipynb",
   "provenance": []
  },
  "kernelspec": {
   "display_name": "Python 3 (ipykernel)",
   "language": "python",
   "name": "python3"
  },
  "language_info": {
   "codemirror_mode": {
    "name": "ipython",
    "version": 3
   },
   "file_extension": ".py",
   "mimetype": "text/x-python",
   "name": "python",
   "nbconvert_exporter": "python",
   "pygments_lexer": "ipython3",
   "version": "3.9.12"
  }
 },
 "nbformat": 4,
 "nbformat_minor": 1
}
